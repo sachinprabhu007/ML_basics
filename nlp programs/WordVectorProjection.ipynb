{
 "cells": [
  {
   "cell_type": "code",
   "execution_count": 24,
   "metadata": {},
   "outputs": [],
   "source": [
    "# Reference : Tutorial by Adit Deshpande : adeshpande3\n",
    "import numpy as np\n",
    "import matplotlib.pyplot as plt\n",
    "%matplotlib inline\n",
    "la = np.linalg"
   ]
  },
  {
   "cell_type": "code",
   "execution_count": 45,
   "metadata": {},
   "outputs": [],
   "source": [
    "\"\"\"sentences = ['I like Deep Learning',\n",
    "             'I like coding in python',\n",
    "             'I like reading novels',\n",
    "            \"I like NLP\",\n",
    "            \"I enjoy flying\"]\"\"\"\n",
    "sentences = [\"I like deep learning\",\n",
    "            \"I like NLP\",\n",
    "            \"I enjoy flying\"]\n"
   ]
  },
  {
   "cell_type": "code",
   "execution_count": 46,
   "metadata": {},
   "outputs": [
    {
     "data": {
      "text/plain": [
       "{'I', 'NLP', 'deep', 'enjoy', 'flying', 'learning', 'like'}"
      ]
     },
     "execution_count": 46,
     "metadata": {},
     "output_type": "execute_result"
    }
   ],
   "source": [
    "unique_words_set = set()\n",
    "for sent in sentences:\n",
    "    words = sent.split()\n",
    "    for word in words:\n",
    "        unique_words_set.add(word)\n",
    "unique_words_set"
   ]
  },
  {
   "cell_type": "code",
   "execution_count": 47,
   "metadata": {},
   "outputs": [
    {
     "data": {
      "text/plain": [
       "['enjoy', 'NLP', 'like', 'I', 'flying', 'deep', 'learning']"
      ]
     },
     "execution_count": 47,
     "metadata": {},
     "output_type": "execute_result"
    }
   ],
   "source": [
    "unique_words_list = list(unique_words_set)\n",
    "unique_words_list"
   ]
  },
  {
   "cell_type": "code",
   "execution_count": 48,
   "metadata": {},
   "outputs": [
    {
     "name": "stdout",
     "output_type": "stream",
     "text": [
      "['I', 'like', 'deep', 'learning']\n",
      "['I', 'like', 'NLP']\n",
      "['I', 'enjoy', 'flying']\n"
     ]
    }
   ],
   "source": [
    "dimension = len(unique_words_list)\n",
    "cooccurenceMatrix = np.zeros((dimension,dimension))\n",
    "\n",
    "for sent in sentences:\n",
    "    words = sent.split()\n",
    "    print(words)\n",
    "    for i in range(0,len(words)):\n",
    "        index = unique_words_list.index(words[i])\n",
    "        \n",
    "        if (i == 0 ): \n",
    "            cooccurenceMatrix[index][unique_words_list.index(words[i+1])] += 1\n",
    "            continue\n",
    "        if (i == len(words) - 1):\n",
    "            cooccurenceMatrix[index][unique_words_list.index(words[i-1])] += 1\n",
    "            continue\n",
    "        cooccurenceMatrix[index][unique_words_list.index(words[i+1])] +=1\n",
    "        cooccurenceMatrix[index][unique_words_list.index(words[i-1])] +=1\n",
    "    cooccurenceMatrix"
   ]
  },
  {
   "cell_type": "code",
   "execution_count": 49,
   "metadata": {},
   "outputs": [
    {
     "data": {
      "text/plain": [
       "array([[0., 0., 0., 1., 1., 0., 0.],\n",
       "       [0., 0., 1., 0., 0., 0., 0.],\n",
       "       [0., 1., 0., 2., 0., 1., 0.],\n",
       "       [1., 0., 2., 0., 0., 0., 0.],\n",
       "       [1., 0., 0., 0., 0., 0., 0.],\n",
       "       [0., 0., 1., 0., 0., 0., 1.],\n",
       "       [0., 0., 0., 0., 0., 1., 0.]])"
      ]
     },
     "execution_count": 49,
     "metadata": {},
     "output_type": "execute_result"
    }
   ],
   "source": [
    "cooccurenceMatrix"
   ]
  },
  {
   "cell_type": "code",
   "execution_count": 50,
   "metadata": {},
   "outputs": [],
   "source": [
    "U, s, Vh = la.svd(cooccurenceMatrix, full_matrices = False)"
   ]
  },
  {
   "cell_type": "code",
   "execution_count": 51,
   "metadata": {},
   "outputs": [
    {
     "data": {
      "image/png": "[encoded data removed]",
      "text/plain": [
       "<Figure size 432x288 with 1 Axes>"
      ]
     },
     "metadata": {},
     "output_type": "display_data"
    }
   ],
   "source": [
    "plt.ylim((-1,1))\n",
    "plt.xlim((-1,1))\n",
    "for i in xrange(len(unique_words_list)):\n",
    "    plt.text(U[i,0], U[i,1], unique_words_list[i])"
   ]
  }
 ],
 "metadata": {
  "kernelspec": {
   "display_name": "keras_tf",
   "language": "python",
   "name": "keras_tf"
  },
  "language_info": {
   "codemirror_mode": {
    "name": "ipython",
    "version": 2
   },
   "file_extension": ".py",
   "mimetype": "text/x-python",
   "name": "python",
   "nbconvert_exporter": "python",
   "pygments_lexer": "ipython2",
   "version": "2.7.12"
  }
 },
 "nbformat": 4,
 "nbformat_minor": 2
}
