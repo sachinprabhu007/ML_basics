{
 "cells": [
  {
   "cell_type": "code",
   "execution_count": 2,
   "metadata": {},
   "outputs": [
    {
     "name": "stdout",
     "output_type": "stream",
     "text": [
      "[0. 3. 2.]\n",
      "1\n"
     ]
    }
   ],
   "source": [
    "from __future__ import division\n",
    "import numpy as np \n",
    "import math\n",
    "from operator import itemgetter\n",
    "import sys\n",
    "\n",
    "#This program is just a rough reimplementation of k nearest neighbors in Python. It's not particularly\n",
    "#optimized in any way but it does give a sense of how the the algorithm chooses the closest\n",
    "#neighbors to a particular test vector, and then how the output class is determined. \n",
    "\n",
    "#Distance between 2 points\n",
    "def distanceBetween(point1,point2):\n",
    "\treturn math.pow((math.pow(point1[0] - point2[0],2) + math.pow(point1[1] - point2[1],2)),0.5)\n",
    "\n",
    "#Visualize these data points on an 4x4 xy graph\n",
    "Xtrain = [[3,1],[3,2],[1,2],[1,3],[4,4],[5,5],[5,7],[7,5],[8,8]]\n",
    "Ytrain = [2,1,2,1,1,0,0,0,1]\n",
    "#Hyperparamters\n",
    "numTrainExamples = len(Xtrain)\n",
    "numNeighbors = 5\n",
    "numClasses = 3 #Classes have to be labeled starting from 0...numCLasses - 1\n",
    "\n",
    "Xtest = [2,1.2]\n",
    "minDistance = sys.maxint\n",
    "\n",
    "distanceAndLocation = []\n",
    "for x in range(0,numTrainExamples):\n",
    "\tdistance = distanceBetween(Xtrain[x],Xtest)\n",
    "\tdistanceAndLocation.append([Xtrain[x], distance, Ytrain[x]])\n",
    "distanceAndLocation = sorted(distanceAndLocation, key=itemgetter(1))\t\n",
    "\n",
    "if len(distanceAndLocation) >= numNeighbors:\n",
    "\tclassCount = np.zeros(numClasses)\n",
    "\tfor i in range(0,numNeighbors):\n",
    "\t\ttemp = distanceAndLocation[i]\n",
    "\t\tclassCount[temp[2]] = classCount[temp[2]] + 1\n",
    "\tmaxCount = 0\n",
    "\tindex = 0\n",
    "\tfor i in range(0,len(classCount)):\n",
    "\t\tif (classCount[i] > maxCount):\n",
    "\t\t\tmaxCount = classCount[i]\n",
    "\t\t\tindex = i\n",
    "\tprint classCount\n",
    "\tprint index\n",
    "else:\n",
    "\tprint 'Number of points less than number of neighbors'\n",
    "\n",
    "\n",
    "\n",
    "\n"
   ]
  },
  {
   "cell_type": "code",
   "execution_count": null,
   "metadata": {},
   "outputs": [],
   "source": []
  }
 ],
 "metadata": {
  "kernelspec": {
   "display_name": "keras_tf",
   "language": "python",
   "name": "keras_tf"
  },
  "language_info": {
   "codemirror_mode": {
    "name": "ipython",
    "version": 2
   },
   "file_extension": ".py",
   "mimetype": "text/x-python",
   "name": "python",
   "nbconvert_exporter": "python",
   "pygments_lexer": "ipython2",
   "version": "2.7.12"
  }
 },
 "nbformat": 4,
 "nbformat_minor": 2
}
