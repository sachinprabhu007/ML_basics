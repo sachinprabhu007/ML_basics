{
 "cells": [
  {
   "cell_type": "code",
   "execution_count": 5,
   "metadata": {},
   "outputs": [],
   "source": [
    "import numpy as np\n",
    "import random"
   ]
  },
  {
   "cell_type": "code",
   "execution_count": 6,
   "metadata": {},
   "outputs": [],
   "source": [
    "def sigmoid(x):\n",
    "    return 1/(1 + np.exp(-x))\n",
    "def sigmoid_grad(f):\n",
    "    return f*(1-f)"
   ]
  },
  {
   "cell_type": "code",
   "execution_count": 7,
   "metadata": {},
   "outputs": [],
   "source": [
    "\n",
    "posData = np.random.randn(3, 1) #Positive Example\n",
    "negData = np.random.randn(3, 1) #Negative Example\n",
    "W1 = np.random.randn(2, 3)\n",
    "U = np.random.randn(2,1) #??? Not sure"
   ]
  },
  {
   "cell_type": "code",
   "execution_count": 8,
   "metadata": {},
   "outputs": [],
   "source": [
    "aPos = sigmoid(np.dot(W1,posData)) #ouput of linear+nonlinear first layer\n",
    "posScore = np.dot(U.T,aPos) #inner product of another weight matrix and ^\n",
    "aNeg = sigmoid(np.dot(W1,negData))\n",
    "negScore = np.dot(U.T,aNeg)"
   ]
  },
  {
   "cell_type": "code",
   "execution_count": 9,
   "metadata": {},
   "outputs": [],
   "source": [
    "maxMarginLoss = max(0,1 - posScore + negScore) #loss function\n",
    "derivative_score_wrt_U_pos = aPos #ds/da = d(U transpose a)/ds = a\n",
    "derivative_score_wrt_U_neg = aNeg\n",
    "delta_pos = (U * sigmoid_grad(sigmoid(aPos))) #delta = U*f'(z) where z = Wx without the sigmoid\n",
    "delta_neg = (U * sigmoid_grad(sigmoid(aNeg)))\n",
    "derivative_score_wrt_W_pos = np.dot(delta_pos,posData.T) #ds/DW = d(delta dot X transpose)/dW\n",
    "derivative_score_wrt_W_neg = np.dot(delta_neg,negData.T)\n",
    "derivative_score_wrt_X_pos = np.dot(W1.T,delta_pos) \n",
    "derivative_score_wrt_X_neg = np.dot(W1.T,delta_neg) \n",
    "derivative_J_wrt_U = -aPos + aNeg"
   ]
  },
  {
   "cell_type": "code",
   "execution_count": 18,
   "metadata": {},
   "outputs": [
    {
     "name": "stdout",
     "output_type": "stream",
     "text": [
      "('posData', array([[ 0.19253407],\n",
      "       [ 1.04992667],\n",
      "       [-0.01679993]]), 'negData', array([[-0.09265375],\n",
      "       [-0.27815294],\n",
      "       [-0.7026281 ]]), 'W1', array([[-0.50881549, -0.0171969 ,  0.47610369],\n",
      "       [ 0.06376643, -0.00305554,  0.86156966]]), 'U', array([[-1.44235314],\n",
      "       [-0.19927549]]))\n"
     ]
    }
   ],
   "source": [
    "print('posData',posData,'negData',negData, 'W1',W1,'U', U)"
   ]
  },
  {
   "cell_type": "code",
   "execution_count": 22,
   "metadata": {},
   "outputs": [
    {
     "name": "stdout",
     "output_type": "stream",
     "text": [
      "(array([[0.4690351 ],\n",
      "       [0.49864871]]), array([[-0.77588271]]), array([[0.42981725],\n",
      "       [0.35196309]]), array([[-0.69008588]]))\n"
     ]
    }
   ],
   "source": [
    "print(aPos,posScore,aNeg,negScore)"
   ]
  },
  {
   "cell_type": "code",
   "execution_count": 23,
   "metadata": {},
   "outputs": [
    {
     "name": "stdout",
     "output_type": "stream",
     "text": [
      "[[-0.03921785]\n",
      " [-0.14668562]]\n"
     ]
    }
   ],
   "source": [
    "print(derivative_J_wrt_U)"
   ]
  },
  {
   "cell_type": "code",
   "execution_count": null,
   "metadata": {},
   "outputs": [],
   "source": []
  }
 ],
 "metadata": {
  "kernelspec": {
   "display_name": "keras_tf",
   "language": "python",
   "name": "keras_tf"
  },
  "language_info": {
   "codemirror_mode": {
    "name": "ipython",
    "version": 2
   },
   "file_extension": ".py",
   "mimetype": "text/x-python",
   "name": "python",
   "nbconvert_exporter": "python",
   "pygments_lexer": "ipython2",
   "version": "2.7.12"
  }
 },
 "nbformat": 4,
 "nbformat_minor": 2
}
