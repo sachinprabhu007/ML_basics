{
 "cells": [
  {
   "cell_type": "code",
   "execution_count": 2,
   "metadata": {},
   "outputs": [
    {
     "name": "stdout",
     "output_type": "stream",
     "text": [
      "[3.0, 1.5]\n",
      "[1.0, 2.5]\n"
     ]
    }
   ],
   "source": [
    "from __future__ import division\n",
    "import numpy as np \n",
    "import math\n",
    "\n",
    "#This program is just a rough reimplementation of k means in Python. It's not particularly\n",
    "#optimized in any way but it does give a sense of how the clusters are initially created\n",
    "#and how the centroids are moved around with different training data. \n",
    "\n",
    "#Distance between 2 points\n",
    "def distanceBetween(point1,point2):\n",
    "\treturn math.pow((math.pow(point1[0] - point2[0],2) + math.pow(point1[1] - point2[1],2)),0.5)\n",
    "\n",
    "#Visualize these data points on an 4x4 xy graph\n",
    "Xtrain = [[3,1],[3,2],[1,2],[1,3]]\n",
    "#Hyperparamters\n",
    "numTrainExamples = len(Xtrain)\n",
    "numEpochs = 200\n",
    "numClusters = 2\n",
    "\n",
    "#Creates two randomly positioned cluster centroids\n",
    "clusterCentroidOne = [np.random.uniform(0,4),np.random.uniform(0,4)]\n",
    "clusterCentroidTwo = [np.random.uniform(0,4),np.random.uniform(0,4)]\n",
    "\n",
    "#Repeats process for a number of iterations\n",
    "for i in range(0,numEpochs):\n",
    "\tclusterOne = []\n",
    "\tclusterTwo = []\n",
    "\tfor x in Xtrain:\n",
    "\t\tdistanceToClusterOne = distanceBetween(clusterCentroidOne,x)\n",
    "\t\tdistanceToClusterTwo = distanceBetween(clusterCentroidTwo,x)\n",
    "\t\tif (distanceToClusterOne < distanceToClusterTwo):\n",
    "\t\t\tclusterOne.append(x)\n",
    "\t\telse:\n",
    "\t\t\tclusterTwo.append(x)\n",
    "\t\txTotal = 0\n",
    "\t\tyTotal = 0\n",
    "\t\tfor y in clusterOne:\n",
    "\t\t\txTotal += y[0]\n",
    "\t\t\tyTotal += y[1]\n",
    "\t\tif len(clusterOne) != 0:\n",
    "\t\t\tclusterCentroidOne[0] = xTotal/len(clusterOne)\n",
    "\t\t\tclusterCentroidOne[1] = yTotal/len(clusterOne)\n",
    "\n",
    "\t\txTotal = 0\n",
    "\t\tyTotal = 0\n",
    "\t\tfor y in clusterTwo:\n",
    "\t\t\txTotal += y[0]\n",
    "\t\t\tyTotal += y[1]\n",
    "\t\tif len(clusterTwo) != 0:\n",
    "\t\t\tclusterCentroidTwo[0] = xTotal/len(clusterTwo)\n",
    "\t\t\tclusterCentroidTwo[1] = yTotal/len(clusterTwo)\n",
    "\n",
    "print(clusterCentroidTwo)\n",
    "print(clusterCentroidOne)\n"
   ]
  },
  {
   "cell_type": "code",
   "execution_count": null,
   "metadata": {},
   "outputs": [],
   "source": []
  }
 ],
 "metadata": {
  "kernelspec": {
   "display_name": "keras_tf_p3",
   "language": "python",
   "name": "keras_tf_p3"
  },
  "language_info": {
   "codemirror_mode": {
    "name": "ipython",
    "version": 3
   },
   "file_extension": ".py",
   "mimetype": "text/x-python",
   "name": "python",
   "nbconvert_exporter": "python",
   "pygments_lexer": "ipython3",
   "version": "3.6.4"
  }
 },
 "nbformat": 4,
 "nbformat_minor": 2
}
